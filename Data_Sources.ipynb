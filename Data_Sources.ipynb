{
 "cells": [
  {
   "cell_type": "markdown",
   "metadata": {},
   "source": [
    "## 1. Data Sources\n",
    "### 1.1 Census Data \n",
    "#### To obtain macro economic trends in New York, Vinings such as population size, age, income etc This will eventually help us in narrowing the final neighbourhoods to set up the store\n",
    "#### 1.1.1 https://datausa.io/profile/geo/vinings-ga\n",
    "#### 1.1.2 https://www.census.gov/quickfacts/fact/table/viningscdpgeorgia,cobbcountygeorgia,atlantacitygeorgia/LND110210\n",
    "#### 1.1.3 https://www.census.gov/quickfacts/NY\n",
    "\n",
    "### 1.2 Foursquare Data for Vinings, Atlanta and New York City neighbourhoods \n",
    "#### Identify similar venues as Vinings in New York City. The store should ideally be placed in location suitable to their core audiences ie family oriented, High Income etc. Venues profiles should be more or less similar to Vinings\n",
    "### 1.3 Foursquare Firmographic data for Furniture Stores in New York City neighbourhoods\n",
    "#### Competitors located in vicinity play an important role on margins. Neighbourhoods having too high or low competitors are not ideal and would like to have a visual view of their locations\n"
   ]
  },
  {
   "cell_type": "code",
   "execution_count": null,
   "metadata": {},
   "outputs": [],
   "source": []
  },
  {
   "cell_type": "code",
   "execution_count": null,
   "metadata": {},
   "outputs": [],
   "source": []
  }
 ],
 "metadata": {
  "kernelspec": {
   "display_name": "Python 3",
   "language": "python",
   "name": "python3"
  },
  "language_info": {
   "codemirror_mode": {
    "name": "ipython",
    "version": 3
   },
   "file_extension": ".py",
   "mimetype": "text/x-python",
   "name": "python",
   "nbconvert_exporter": "python",
   "pygments_lexer": "ipython3",
   "version": "3.6.5"
  }
 },
 "nbformat": 4,
 "nbformat_minor": 2
}
