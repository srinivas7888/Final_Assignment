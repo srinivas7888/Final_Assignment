{
 "cells": [
  {
   "cell_type": "markdown",
   "metadata": {},
   "source": [
    "## 1. Background"
   ]
  },
  {
   "cell_type": "markdown",
   "metadata": {},
   "source": [
    "#### A family owned furniture business is facing challenges due to sudden lockdown initiated to control COVID-19 spread. Being a brick and mortar store based out Vinings, Atlanta it is vital to keep costs down to ensure sufficient cash flow. Their primary suppliers and vendors are based out of New York and the uneven lockdowns have disrupted their supply chain"
   ]
  },
  {
   "cell_type": "markdown",
   "metadata": {},
   "source": [
    "## 2. Business Challenge\n",
    "#### Unfortunately the store fell victim to ongoing unrest and incurred significant damage due to rioting and looting. The management has hereby decided to move the store to New York City due following reasons:\n",
    "#### 1. Lack of timely state aid to deal with damage\n",
    "#### 2. Closer to suppliers helps to reduce shipping costs  \n",
    "#### 3. Current lease is about to expire\n",
    "#### The store is quite popular among older demographic with families who have high household Income. They have also launched a new brand to attract Millenials and is just getting noticed and are scouting locations in New York City to find ideal location to establish their store. They also intend to have a clear picture of their competitors in each neighbourhood"
   ]
  },
  {
   "cell_type": "markdown",
   "metadata": {},
   "source": [
    "## 3. Approach\n",
    "#### 1. Define the current neighbourhood of Vinings, Atlanta \n",
    "#### 2. Identify similar neighbourhoods in New York City \n",
    "#### 3. Map neighbourhood closest to Vinings, Atlanta\n",
    "\n",
    "#### We also wish to consider other Macroeconomic factors such as population, unemployment rate, GDP, median age etc and competitor presence to decide the final site for locating the store"
   ]
  },
  {
   "cell_type": "markdown",
   "metadata": {},
   "source": []
  },
  {
   "cell_type": "code",
   "execution_count": null,
   "metadata": {},
   "outputs": [],
   "source": []
  },
  {
   "cell_type": "code",
   "execution_count": null,
   "metadata": {},
   "outputs": [],
   "source": []
  }
 ],
 "metadata": {
  "kernelspec": {
   "display_name": "Python 3",
   "language": "python",
   "name": "python3"
  },
  "language_info": {
   "codemirror_mode": {
    "name": "ipython",
    "version": 3
   },
   "file_extension": ".py",
   "mimetype": "text/x-python",
   "name": "python",
   "nbconvert_exporter": "python",
   "pygments_lexer": "ipython3",
   "version": "3.6.5"
  }
 },
 "nbformat": 4,
 "nbformat_minor": 2
}
