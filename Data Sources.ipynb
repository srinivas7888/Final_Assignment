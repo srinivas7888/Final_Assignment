{
 "cells": [
  {
   "cell_type": "markdown",
   "metadata": {},
   "source": [
    "## 1. <u> Data Sources</u>\n",
    "### 1.1 Census Data \n",
    "#### 1.1.1 https://datausa.io/profile/geo/vinings-ga\n",
    "#### 1.1.2 https://www.census.gov/quickfacts/fact/table/viningscdpgeorgia,cobbcountygeorgia,atlantacitygeorgia/LND110210\n",
    "#### 1.1.3 https://www.census.gov/quickfacts/NY\n",
    "\n",
    "### 1.2 Foursquare Data for Vinings, Atlanta and New York City neighbourhoods\n",
    "### 1.3 Foursquare Firmographic data for Furniture Stores in New York City neighbourhoods"
   ]
  },
  {
   "cell_type": "code",
   "execution_count": null,
   "metadata": {},
   "outputs": [],
   "source": []
  },
  {
   "cell_type": "code",
   "execution_count": null,
   "metadata": {},
   "outputs": [],
   "source": []
  }
 ],
 "metadata": {
  "kernelspec": {
   "display_name": "Python 3",
   "language": "python",
   "name": "python3"
  },
  "language_info": {
   "codemirror_mode": {
    "name": "ipython",
    "version": 3
   },
   "file_extension": ".py",
   "mimetype": "text/x-python",
   "name": "python",
   "nbconvert_exporter": "python",
   "pygments_lexer": "ipython3",
   "version": "3.6.5"
  }
 },
 "nbformat": 4,
 "nbformat_minor": 2
}
